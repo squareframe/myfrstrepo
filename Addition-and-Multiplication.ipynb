{
 "cells": [
  {
   "cell_type": "code",
   "execution_count": 1,
   "id": "0ecbb681",
   "metadata": {},
   "outputs": [
    {
     "name": "stdout",
     "output_type": "stream",
     "text": [
      "359\n"
     ]
    }
   ],
   "source": [
    "x=100\n",
    "y=259\n",
    "print(x+y)"
   ]
  },
  {
   "cell_type": "code",
   "execution_count": 31,
   "id": "a7a1c192",
   "metadata": {},
   "outputs": [],
   "source": [
    "l=(x+y)"
   ]
  },
  {
   "cell_type": "code",
   "execution_count": 32,
   "id": "04062f18",
   "metadata": {},
   "outputs": [
    {
     "name": "stdout",
     "output_type": "stream",
     "text": [
      "359\n"
     ]
    }
   ],
   "source": [
    "print(l)\n",
    "\n"
   ]
  },
  {
   "cell_type": "code",
   "execution_count": 30,
   "id": "d54fde4e",
   "metadata": {},
   "outputs": [
    {
     "name": "stdout",
     "output_type": "stream",
     "text": [
      "The sum of x and y is 359\n"
     ]
    }
   ],
   "source": [
    "print(\"The sum of x and y is\",(x+y))\n",
    "\n"
   ]
  },
  {
   "cell_type": "code",
   "execution_count": 33,
   "id": "c227887f",
   "metadata": {},
   "outputs": [
    {
     "name": "stdout",
     "output_type": "stream",
     "text": [
      "The value of x is 100 and value of y is 259 and sum of both the numbers are 359\n"
     ]
    }
   ],
   "source": [
    "print(\"The value of x is\",(x), \"and value of y is\",(y),'and sum of both the numbers are',(l))\n"
   ]
  },
  {
   "cell_type": "code",
   "execution_count": 34,
   "id": "95189764",
   "metadata": {},
   "outputs": [
    {
     "name": "stdout",
     "output_type": "stream",
     "text": [
      "Multiplication of both the numbers are 25900\n"
     ]
    }
   ],
   "source": [
    "print('Multiplication of both the numbers are',x*y)"
   ]
  },
  {
   "cell_type": "code",
   "execution_count": 35,
   "id": "22d0090f",
   "metadata": {},
   "outputs": [
    {
     "name": "stdout",
     "output_type": "stream",
     "text": [
      "The value of x is 100 and value of y is 259 and sum of both the numbers are 359 Multiplication of both the numbers are 25900\n"
     ]
    }
   ],
   "source": [
    "print(\"The value of x is\",(x), \"and value of y is\",(y),'and sum of both the numbers are',(l),'Multiplication of both the numbers are',x*y)\n"
   ]
  },
  {
   "cell_type": "code",
   "execution_count": null,
   "id": "77e94f2a",
   "metadata": {},
   "outputs": [],
   "source": []
  }
 ],
 "metadata": {
  "kernelspec": {
   "display_name": "Python 3 (ipykernel)",
   "language": "python",
   "name": "python3"
  },
  "language_info": {
   "codemirror_mode": {
    "name": "ipython",
    "version": 3
   },
   "file_extension": ".py",
   "mimetype": "text/x-python",
   "name": "python",
   "nbconvert_exporter": "python",
   "pygments_lexer": "ipython3",
   "version": "3.9.12"
  }
 },
 "nbformat": 4,
 "nbformat_minor": 5
}
